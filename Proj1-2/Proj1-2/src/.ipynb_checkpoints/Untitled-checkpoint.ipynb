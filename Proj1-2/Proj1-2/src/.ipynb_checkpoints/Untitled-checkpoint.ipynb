{
 "cells": [
  {
   "cell_type": "code",
   "execution_count": null,
   "id": "b587ecc9-9e22-4134-bc55-c7a1c93c03ca",
   "metadata": {},
   "outputs": [],
   "source": [
    "import subprocess\n",
    "\n",
    "def run_simulator(L1_SIZE, BLOCKSIZE=64, L2_SIZE=4096, L1_ASSOC=2, L2_ASSOC=4, Victim_Cache_SIZE=1024, trace_file=\"gcc_trace.txt\"):\n",
    "    cmd = [\"./sim_cache\", str(BLOCKSIZE), str(L1_SIZE), str(L2_SIZE), str(L1_ASSOC), str(L2_ASSOC), str(Victim_Cache_SIZE), trace_file]\n",
    "    output = subprocess.check_output(cmd).decode('utf-8')\n",
    "    return output\n",
    "\n",
    "def parse_output(output):\n",
    "    lines = output.split('\\n')\n",
    "    results = {}\n",
    "    for line in lines:\n",
    "        if \"L1 miss rate:\" in line:\n",
    "            results['L1_miss_rate'] = float(line.split()[-1])\n",
    "        elif \"L2 miss rate:\" in line:\n",
    "            results['L2_miss_rate'] = float(line.split()[-1])\n",
    "        elif \"average access time:\" in line:\n",
    "            results['AAT'] = float(line.split()[-2])\n",
    "    return results\n",
    "\n"
   ]
  },
  {
   "cell_type": "code",
   "execution_count": null,
   "id": "288ad550-d4a2-4900-90d7-4675c13d53e3",
   "metadata": {},
   "outputs": [],
   "source": [
    "# Define L1_SIZE values to simulate\n",
    "L1_SIZES = [128, 256]\n",
    "\n",
    "# Run simulations and collect results\n",
    "results = {}\n",
    "for L1_SIZE in L1_SIZES:\n",
    "    output = run_simulator(L1_SIZE)\n",
    "    parsed_results = parse_output(output)\n",
    "    results[L1_SIZE] = parsed_results\n",
    "\n",
    "print(results)\n"
   ]
  }
 ],
 "metadata": {
  "kernelspec": {
   "display_name": "Python 3 (ipykernel)",
   "language": "python",
   "name": "python3"
  },
  "language_info": {
   "codemirror_mode": {
    "name": "ipython",
    "version": 3
   },
   "file_extension": ".py",
   "mimetype": "text/x-python",
   "name": "python",
   "nbconvert_exporter": "python",
   "pygments_lexer": "ipython3",
   "version": "3.9.13"
  }
 },
 "nbformat": 4,
 "nbformat_minor": 5
}
